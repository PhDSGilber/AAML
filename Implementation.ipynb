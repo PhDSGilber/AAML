{
  "nbformat": 4,
  "nbformat_minor": 0,
  "metadata": {
    "colab": {
      "provenance": [],
      "authorship_tag": "ABX9TyPr8uLnTImMf8xlxdnX34NS",
      "include_colab_link": true
    },
    "kernelspec": {
      "name": "python3",
      "display_name": "Python 3"
    },
    "language_info": {
      "name": "python"
    }
  },
  "cells": [
    {
      "cell_type": "markdown",
      "metadata": {
        "id": "view-in-github",
        "colab_type": "text"
      },
      "source": [
        "<a href=\"https://colab.research.google.com/github/PhDSGilber/AMLA/blob/main/Implementation.ipynb\" target=\"_parent\"><img src=\"https://colab.research.google.com/assets/colab-badge.svg\" alt=\"Open In Colab\"/></a>"
      ]
    },
    {
      "cell_type": "markdown",
      "source": [
        "## **THE BREAST CANCER WISCONSIN DATASET**"
      ],
      "metadata": {
        "id": "OBRx6Whl_A1f"
      }
    },
    {
      "cell_type": "markdown",
      "source": [
        "BCW dataset from the University of Wisconsin Hospital was used to evaluate the impact of k-means clustering using centroid initialization, distance measures, threshold, attribute variations, and split methods. The objective of clustering this dataset was to achieve higher accuracy in cancer diagnosis. The principal aim of this algorithm is to expound k centers, one for each cluster. These focuses were set logically to avoid distinctive results from a diverse area selection. Along these steps, the better decision is to place them, however, much as could be expected far from one another. Every point was fitting in the given information set and relates to the closest center. The feature of this dataset is computed from fine needle aspirate (FNA) of a breast mass [16]. A total 699 instances, each having nine input attributes (2–10) and one target attribute (11) which is either benign or malignant, are presented in Table 1."
      ],
      "metadata": {
        "id": "OD-P9AMz_cef"
      }
    },
    {
      "cell_type": "code",
      "source": [
        "# Manejo de archivos Pandas\n",
        "import pandas as pd\n",
        "\n",
        "# Manejo de matrices\n",
        "import numpy as np\n",
        "\n",
        "# División de los datos en entrenamiento y testing\n",
        "from sklearn.model_selection import train_test_split\n",
        "\n",
        "# Metricas\n",
        "from sklearn.metrics import confusion_matrix\n",
        "from sklearn.metrics import accuracy_score\n",
        "from sklearn.metrics import precision_score\n",
        "from sklearn.metrics import recall_score\n",
        "from sklearn.metrics import f1_score\n",
        "from sklearn.metrics import classification_report\n",
        "from sklearn.metrics import roc_auc_score\n",
        "\n",
        "# Metricas bonitas\n",
        "from yellowbrick.classifier import confusion_matrix as  cm\n",
        "from yellowbrick.classifier import classification_report as cr\n",
        "from yellowbrick.classifier.rocauc import roc_auc\n",
        "from yellowbrick.classifier import class_prediction_error\n",
        "\n",
        "# Herramientas\n",
        "## Encoder, paso de variables categóricas a numéricas\n",
        "from sklearn.preprocessing import LabelEncoder\n",
        "## Para preprocesar las features\n",
        "from sklearn import preprocessing\n",
        "\n",
        "#Balance de clases\n",
        "from imblearn.over_sampling import RandomOverSampler\n",
        "from imblearn.over_sampling import SMOTE\n",
        "from imblearn.over_sampling import ADASYN\n",
        "from imblearn.over_sampling import BorderlineSMOTE\n",
        "from imblearn.over_sampling import KMeansSMOTE\n",
        "from imblearn.over_sampling import SVMSMOTE\n",
        "from imblearn.over_sampling import SMOTEN\n",
        "from imblearn.under_sampling import RandomUnderSampler\n",
        "from imblearn.under_sampling import ClusterCentroids\n",
        "from imblearn.under_sampling import NearMiss\n",
        "\n",
        "# Visualización y gráficos\n",
        "import seaborn as sns\n",
        "import matplotlib.pyplot as plt\n",
        "\n",
        "# PCA\n",
        "from sklearn.decomposition import PCA\n",
        "\n",
        "# Aprendizajae NO supervisado\n",
        "## Hacer K-Means\n",
        "from sklearn.cluster import KMeans\n",
        "## Hacer el dendograma de la agrupación jerárquica\n",
        "from scipy.cluster.hierarchy import dendrogram, linkage\n",
        "## Hacer las predicciones con agrupación jerárquica\n",
        "from sklearn.cluster import AgglomerativeClustering\n",
        "\n",
        "# Aprendizaje supervisado\n",
        "## Algoritmos de ML para clasificación (13)\n",
        "from sklearn.neighbors import KNeighborsClassifier\n",
        "from sklearn.tree import DecisionTreeClassifier\n",
        "from sklearn.ensemble import BaggingClassifier\n",
        "from sklearn.ensemble import RandomForestClassifier\n",
        "from sklearn.ensemble import AdaBoostClassifier\n",
        "from sklearn.svm import SVC\n",
        "from sklearn.ensemble import ExtraTreesClassifier\n",
        "from xgboost import XGBClassifier\n",
        "from sklearn.linear_model import LogisticRegression\n",
        "from sklearn.ensemble import GradientBoostingClassifier\n",
        "from sklearn.discriminant_analysis import QuadraticDiscriminantAnalysis\n",
        "from sklearn.discriminant_analysis import LinearDiscriminantAnalysis\n",
        "from sklearn.naive_bayes import GaussianNB\n",
        "## Algoritmos de ML para regresión (10)\n",
        "from sklearn.neighbors import KNeighborsRegressor\n",
        "from sklearn.tree import DecisionTreeRegressor\n",
        "from sklearn.ensemble import BaggingRegressor\n",
        "from sklearn.ensemble import RandomForestRegressor\n",
        "from sklearn.ensemble import AdaBoostRegressor\n",
        "from sklearn.svm import SVR\n",
        "from sklearn.ensemble import ExtraTreesRegressor\n",
        "from xgboost import XGBRegressor\n",
        "from sklearn.linear_model import LinearRegression\n",
        "from sklearn.ensemble import GradientBoostingRegressor\n",
        "\n",
        "# Ajuste de hiperparámetros\n",
        "from sklearn.model_selection import GridSearchCV\n",
        "\n",
        "# Importancia de características\n",
        "from yellowbrick.model_selection import FeatureImportances\n",
        "\n",
        "# Guardar y cargar modelos\n",
        "import joblib\n",
        "# Importa Scikit-Learn y otros módulos necesarios\n",
        "from sklearn.linear_model import LinearRegression, Ridge, Lasso, ElasticNet\n",
        "from sklearn.neural_network import MLPRegressor\n",
        "from sklearn.kernel_ridge import KernelRidge\n",
        "from sklearn.linear_model import HuberRegressor, BayesianRidge, RANSACRegressor, SGDRegressor\n",
        "from sklearn.svm import LinearSVR\n",
        "\n",
        "\n",
        "# Algoritmo KNN\n",
        "\n",
        "\n",
        "\n",
        "\n",
        "from sklearn import model_selection\n",
        "\n",
        "\n",
        "\n",
        "\n",
        "\n",
        "\n",
        "from copy import deepcopy\n",
        "\n",
        "from statsmodels.stats.outliers_influence import variance_inflation_factor\n",
        "from sklearn.preprocessing import StandardScaler, MinMaxScaler, RobustScaler, MaxAbsScaler, QuantileTransformer\n",
        "\n",
        "\n",
        "from autogluon.tabular import TabularDataset, TabularPredictor\n",
        "!pip install -U pip\n",
        "!pip install -U setuptools wheel\n",
        "!pip install autogluon  # autogluon==0.4.0"
      ],
      "metadata": {
        "id": "VVlm5YYNsoFd"
      },
      "execution_count": null,
      "outputs": []
    },
    {
      "cell_type": "code",
      "source": [
        "# Algoritmo KNN\n",
        "from sklearn.neighbors import KNeighborsClassifier\n",
        "\n",
        "# Manejo de archivos Pandas\n",
        "import pandas as pd\n",
        "\n",
        "# Manejo de matrices\n",
        "import numpy as np\n",
        "\n",
        "# División de los datos en entrenamiento y testing\n",
        "from sklearn.model_selection import train_test_split\n",
        "\n",
        "# Metricas\n",
        "from sklearn.metrics import confusion_matrix\n",
        "from sklearn.metrics import accuracy_score\n",
        "from sklearn.metrics import precision_score\n",
        "from sklearn.metrics import recall_score\n",
        "from sklearn.metrics import f1_score\n",
        "from sklearn.metrics import classification_report\n",
        "from sklearn.metrics import roc_auc_score\n",
        "from sklearn import model_selection\n",
        "\n",
        "# Metricas bonitas\n",
        "from yellowbrick.classifier import confusion_matrix as  cm\n",
        "from yellowbrick.classifier import classification_report as cr\n",
        "from yellowbrick.classifier.rocauc import roc_auc\n",
        "from yellowbrick.classifier import class_prediction_error\n",
        "\n",
        "# Herramientas\n",
        "## Encoder, paso de variables categóricas a numéricas\n",
        "from sklearn.preprocessing import LabelEncoder\n",
        "## Para preprocesar las features\n",
        "from sklearn import preprocessing\n",
        "\n",
        "#Balance de clases\n",
        "from imblearn.over_sampling import RandomOverSampler\n",
        "from imblearn.over_sampling import SMOTE\n",
        "from imblearn.over_sampling import ADASYN\n",
        "from imblearn.over_sampling import BorderlineSMOTE\n",
        "from imblearn.over_sampling import KMeansSMOTE\n",
        "from imblearn.over_sampling import SVMSMOTE\n",
        "from imblearn.over_sampling import SMOTEN\n",
        "from imblearn.under_sampling import RandomUnderSampler\n",
        "from imblearn.under_sampling import ClusterCentroids\n",
        "from imblearn.under_sampling import NearMiss\n",
        "\n",
        "# Visualización y gráficos\n",
        "import seaborn as sns\n",
        "import matplotlib.pyplot as plt\n",
        "\n",
        "# PCA\n",
        "from sklearn.decomposition import PCA\n",
        "\n",
        "from copy import deepcopy\n",
        "\n",
        "from statsmodels.stats.outliers_influence import variance_inflation_factor\n",
        "from sklearn.preprocessing import StandardScaler, MinMaxScaler, RobustScaler, MaxAbsScaler, QuantileTransformer\n",
        "\n",
        "\n",
        "from autogluon.tabular import TabularDataset, TabularPredictor\n",
        "import pandas as pd\n",
        "import numpy as np\n",
        "!pip install -U pip\n",
        "!pip install -U setuptools wheel\n",
        "!pip install autogluon  # autogluon==0.4.0"
      ],
      "metadata": {
        "id": "L1FdY-JLrMaJ"
      },
      "execution_count": 3,
      "outputs": []
    },
    {
      "cell_type": "code",
      "source": [
        "Class Labels\n",
        "\n",
        "2 = benign, 4 = malignant\n",
        "\n",
        "Additional Information\n",
        "\n",
        "1. Sample code number:            id number\n",
        "2. Clump Thickness:               1 - 10\n",
        "3. Uniformity of Cell Size:       1 - 10\n",
        "4. Uniformity of Cell Shape:      1 - 10\n",
        "5. Marginal Adhesion:             1 - 10\n",
        "6. Single Epithelial Cell Size:   1 - 10\n",
        "7. Bare Nuclei:                   1 - 10\n",
        "8. Bland Chromatin:               1 - 10\n",
        "9. Normal Nucleoli:               1 - 10\n",
        "10. Mitoses:                       1 - 10\n",
        "11. Class:                        (2 for benign, 4 for malignant)"
      ],
      "metadata": {
        "id": "iivoGgMra8AL"
      },
      "execution_count": null,
      "outputs": []
    },
    {
      "cell_type": "markdown",
      "source": [
        "![image.png](data:image/png;base64,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)"
      ],
      "metadata": {
        "id": "4dkg9Gq__i5P"
      }
    },
    {
      "cell_type": "markdown",
      "source": [
        "*   Clump thickness (CT): It indicates grouping of cancer cells in multilayer.\n",
        "*   Uniformity of cell size (UCS): It indicates metastasis to\n",
        "lymph nodes.\n",
        "*   Uniformity of cell shapes (UCSh): It identifies cancerous\n",
        "cells, which are of varying size.\n",
        "*   Marginal adhesion (MA): It suggests loss of adhesion,\n",
        "i.e., a sign of malignancy but the cancerous cells lose this\n",
        "property. So this retention of adhesion is an indication of\n",
        "malignancy.\n",
        "*   Single epithelial cell size (SECS): If the SECS become\n",
        "larger, it may be a malignant cell.\n",
        "*   Bare nuclei (BN): Bare nuclei without cytoplasm coating\n",
        "which are found in benign tumors.\n",
        "*   Bland chromatin (BC): It usually found in benign cell.\n",
        "*   Normal nucleoli (NN): It is generally very small in benign\n",
        "cells.\n",
        "*   Mitoses: It is the process in cell division by which nucleus\n",
        "divides.\n"
      ],
      "metadata": {
        "id": "RVWQ5cP-_xkd"
      }
    },
    {
      "cell_type": "markdown",
      "source": [
        "• Espesor del cúmulo (CT): Indica agrupación de células cancerosas en multicapa.\n",
        "\n",
        "• Uniformidad del tamaño celular (UCS): Indica metástasis a los ganglios linfáticos.\n",
        "\n",
        "• Uniformidad de formas celulares (UCSh): Identifica células cancerosas, que son de diferente tamaño.\n",
        "\n",
        "• Adhesión marginal (MA): Sugiere pérdida de adhesión, es decir, un signo de malignidad pero las células cancerosas pierden esta propiedad. Entonces esta retención de adhesión es una indicación de malignidad.\n",
        "\n",
        "• Tamaño de célula epitelial única (SECS): si las SECS aumentan de tamaño, puede ser una célula maligna.\n",
        "\n",
        "• Núcleos desnudos (BN): Núcleos desnudos sin recubrimiento de citoplasma que se encuentran en tumores benignos.\n",
        "\n",
        "• Cromatina blanda (BC): Suele encontrarse en células benignas.\n",
        "\n",
        "• Nucléolo normal (NN): Generalmente es muy pequeño en células benignas.\n",
        "\n",
        "  • Mitosis: Es el proceso de división celular por el cual se divide el núcleo."
      ],
      "metadata": {
        "id": "_vgwoJoeARRk"
      }
    },
    {
      "cell_type": "code",
      "source": [
        "!mkdir breast_cancer\n",
        "%cd /content/breast_cancer\n",
        "!wget https://archive.ics.uci.edu/static/public/15/breast+cancer+wisconsin+original.zip\n",
        "!unzip 'breast+cancer+wisconsin+original.zip'\n",
        "!rm 'breast+cancer+wisconsin+original.zip'"
      ],
      "metadata": {
        "id": "oMFXRf0TqXvC",
        "colab": {
          "base_uri": "https://localhost:8080/"
        },
        "outputId": "d5a5d024-6640-45d1-bc11-12c7e82d7cb2"
      },
      "execution_count": 1,
      "outputs": [
        {
          "output_type": "stream",
          "name": "stdout",
          "text": [
            "/content/breast_cancer\n",
            "--2023-09-16 22:17:59--  https://archive.ics.uci.edu/static/public/15/breast+cancer+wisconsin+original.zip\n",
            "Resolving archive.ics.uci.edu (archive.ics.uci.edu)... 128.195.10.252\n",
            "Connecting to archive.ics.uci.edu (archive.ics.uci.edu)|128.195.10.252|:443... connected.\n",
            "HTTP request sent, awaiting response... 200 OK\n",
            "Length: unspecified\n",
            "Saving to: ‘breast+cancer+wisconsin+original.zip’\n",
            "\n",
            "breast+cancer+wisco     [ <=>                ]  84.51K  --.-KB/s    in 0.1s    \n",
            "\n",
            "2023-09-16 22:17:59 (858 KB/s) - ‘breast+cancer+wisconsin+original.zip’ saved [86541]\n",
            "\n",
            "Archive:  breast+cancer+wisconsin+original.zip\n",
            "  inflating: Index                   \n",
            "  inflating: breast-cancer-wisconsin.data  \n",
            "  inflating: breast-cancer-wisconsin.names  \n",
            "  inflating: unformatted-data        \n",
            "  inflating: wdbc.data               \n",
            "  inflating: wdbc.names              \n",
            "  inflating: wpbc.data               \n",
            "  inflating: wpbc.names              \n"
          ]
        }
      ]
    },
    {
      "cell_type": "code",
      "source": [
        "names_colum = [ 'SCN','CT','UCS', 'UCSh','MA','SECS','BN', 'BC', 'NN', 'Mitoses','Class']#eliminar columna\n",
        "df_breast_cancer = pd.read_csv('/content/breast_cancer/breast-cancer-wisconsin.data',names=names_colum, header=None)\n",
        "names_colum = ['CT','UCS', 'UCSh','MA','SECS','BN', 'BC', 'NN', 'Mitoses','Class']#eliminar columna\n",
        "df_breast_cancer = df_breast_cancer.drop('SCN', axis=1)\n",
        "df = fill_in_missing_data_cancer(df_breast_cancer,9)"
      ],
      "metadata": {
        "id": "3t-DcAuQrE7T",
        "colab": {
          "base_uri": "https://localhost:8080/"
        },
        "outputId": "b0145b2a-ee43-4755-ce0f-3b22814a470f"
      },
      "execution_count": 105,
      "outputs": [
        {
          "output_type": "stream",
          "name": "stdout",
          "text": [
            "Nuevo dataset con fill_miss_df\n",
            "\n",
            "\n",
            "<class 'pandas.core.frame.DataFrame'>\n",
            "RangeIndex: 699 entries, 0 to 698\n",
            "Data columns (total 10 columns):\n",
            " #   Column   Non-Null Count  Dtype\n",
            "---  ------   --------------  -----\n",
            " 0   CT       699 non-null    int64\n",
            " 1   UCS      699 non-null    int64\n",
            " 2   UCSh     699 non-null    int64\n",
            " 3   MA       699 non-null    int64\n",
            " 4   SECS     699 non-null    int64\n",
            " 5   BN       699 non-null    int64\n",
            " 6   BC       699 non-null    int64\n",
            " 7   NN       699 non-null    int64\n",
            " 8   Mitoses  699 non-null    int64\n",
            " 9   Class    699 non-null    int64\n",
            "dtypes: int64(10)\n",
            "memory usage: 54.7 KB\n",
            "None\n"
          ]
        }
      ]
    },
    {
      "cell_type": "code",
      "source": [
        "y_test_to_cr,y_train_to_cr = conver_y(y_train,y_test)\n",
        "model_KNN = KNeighborsClassifier(n_neighbors=3)\n",
        "model_KNN.fit(X_train,y_train_to_cr)\n",
        "metrics_to_clasification(model_KNN,X_test, y_test_to_cr,X_train,y_train_to_cr,list(np.unique(np.array(y_train))))"
      ],
      "metadata": {
        "id": "2VClA_LnrAMp",
        "colab": {
          "base_uri": "https://localhost:8080/",
          "height": 229
        },
        "outputId": "dd87a1c1-b147-4f27-dd39-5b07ad62e9e8"
      },
      "execution_count": null,
      "outputs": [
        {
          "output_type": "error",
          "ename": "NameError",
          "evalue": "ignored",
          "traceback": [
            "\u001b[0;31m---------------------------------------------------------------------------\u001b[0m",
            "\u001b[0;31mNameError\u001b[0m                                 Traceback (most recent call last)",
            "\u001b[0;32m<ipython-input-7-46cc174e3a23>\u001b[0m in \u001b[0;36m<cell line: 1>\u001b[0;34m()\u001b[0m\n\u001b[0;32m----> 1\u001b[0;31m \u001b[0my_test_to_cr\u001b[0m\u001b[0;34m,\u001b[0m\u001b[0my_train_to_cr\u001b[0m \u001b[0;34m=\u001b[0m \u001b[0mconver_y\u001b[0m\u001b[0;34m(\u001b[0m\u001b[0my_train\u001b[0m\u001b[0;34m,\u001b[0m\u001b[0my_test\u001b[0m\u001b[0;34m)\u001b[0m\u001b[0;34m\u001b[0m\u001b[0;34m\u001b[0m\u001b[0m\n\u001b[0m\u001b[1;32m      2\u001b[0m \u001b[0mmodel_KNN\u001b[0m \u001b[0;34m=\u001b[0m \u001b[0mKNeighborsClassifier\u001b[0m\u001b[0;34m(\u001b[0m\u001b[0mn_neighbors\u001b[0m\u001b[0;34m=\u001b[0m\u001b[0;36m3\u001b[0m\u001b[0;34m)\u001b[0m\u001b[0;34m\u001b[0m\u001b[0;34m\u001b[0m\u001b[0m\n\u001b[1;32m      3\u001b[0m \u001b[0mmodel_KNN\u001b[0m\u001b[0;34m.\u001b[0m\u001b[0mfit\u001b[0m\u001b[0;34m(\u001b[0m\u001b[0mX_train\u001b[0m\u001b[0;34m,\u001b[0m\u001b[0my_train_to_cr\u001b[0m\u001b[0;34m)\u001b[0m\u001b[0;34m\u001b[0m\u001b[0;34m\u001b[0m\u001b[0m\n\u001b[1;32m      4\u001b[0m \u001b[0mmetrics_to_clasification\u001b[0m\u001b[0;34m(\u001b[0m\u001b[0mmodel_KNN\u001b[0m\u001b[0;34m,\u001b[0m\u001b[0mX_test\u001b[0m\u001b[0;34m,\u001b[0m \u001b[0my_test_to_cr\u001b[0m\u001b[0;34m,\u001b[0m\u001b[0mX_train\u001b[0m\u001b[0;34m,\u001b[0m\u001b[0my_train_to_cr\u001b[0m\u001b[0;34m,\u001b[0m\u001b[0mlist\u001b[0m\u001b[0;34m(\u001b[0m\u001b[0mnp\u001b[0m\u001b[0;34m.\u001b[0m\u001b[0munique\u001b[0m\u001b[0;34m(\u001b[0m\u001b[0mnp\u001b[0m\u001b[0;34m.\u001b[0m\u001b[0marray\u001b[0m\u001b[0;34m(\u001b[0m\u001b[0my_train\u001b[0m\u001b[0;34m)\u001b[0m\u001b[0;34m)\u001b[0m\u001b[0;34m)\u001b[0m\u001b[0;34m)\u001b[0m\u001b[0;34m\u001b[0m\u001b[0;34m\u001b[0m\u001b[0m\n",
            "\u001b[0;31mNameError\u001b[0m: name 'conver_y' is not defined"
          ]
        }
      ]
    },
    {
      "cell_type": "markdown",
      "source": [
        "# **SEAM PHASE I WELL LOG DATA**"
      ],
      "metadata": {
        "id": "qSG1sX9_oASl"
      }
    },
    {
      "cell_type": "code",
      "source": [
        "%cd /content\n",
        "!mkdir SEAM\n",
        "%cd /content/SEAM\n",
        "!wget --no-check-certificate 'https://docs.google.com/uc?export=download&id=1aESUgUeKLJehlfRDhz3etQGYNJXmIu1K' -O Wells_Regression_Delta.csv"
      ],
      "metadata": {
        "id": "aDfr5RgroeY8",
        "colab": {
          "base_uri": "https://localhost:8080/"
        },
        "outputId": "5fd06280-28cb-40e5-95ff-6e48c5ea4ca0"
      },
      "execution_count": null,
      "outputs": [
        {
          "output_type": "stream",
          "name": "stdout",
          "text": [
            "/content\n",
            "/content/SEAM\n",
            "--2023-09-16 13:38:51--  https://docs.google.com/uc?export=download&id=1aESUgUeKLJehlfRDhz3etQGYNJXmIu1K\n",
            "Resolving docs.google.com (docs.google.com)... 74.125.204.113, 74.125.204.138, 74.125.204.100, ...\n",
            "Connecting to docs.google.com (docs.google.com)|74.125.204.113|:443... connected.\n",
            "HTTP request sent, awaiting response... 303 See Other\n",
            "Location: https://doc-10-8c-docs.googleusercontent.com/docs/securesc/ha0ro937gcuc7l7deffksulhg5h7mbp1/d1lq725bfs1av3781qt7j5itlibevqar/1694871525000/11849440450678359784/*/1aESUgUeKLJehlfRDhz3etQGYNJXmIu1K?e=download&uuid=369ccbd6-9740-4992-b3e7-d14a1b78e21b [following]\n",
            "Warning: wildcards not supported in HTTP.\n",
            "--2023-09-16 13:38:51--  https://doc-10-8c-docs.googleusercontent.com/docs/securesc/ha0ro937gcuc7l7deffksulhg5h7mbp1/d1lq725bfs1av3781qt7j5itlibevqar/1694871525000/11849440450678359784/*/1aESUgUeKLJehlfRDhz3etQGYNJXmIu1K?e=download&uuid=369ccbd6-9740-4992-b3e7-d14a1b78e21b\n",
            "Resolving doc-10-8c-docs.googleusercontent.com (doc-10-8c-docs.googleusercontent.com)... 142.251.8.132, 2404:6800:4008:c15::84\n",
            "Connecting to doc-10-8c-docs.googleusercontent.com (doc-10-8c-docs.googleusercontent.com)|142.251.8.132|:443... connected.\n",
            "HTTP request sent, awaiting response... 200 OK\n",
            "Length: 253197 (247K) [text/csv]\n",
            "Saving to: ‘Wells_Regression_Delta.csv’\n",
            "\n",
            "Wells_Regression_De 100%[===================>] 247.26K  --.-KB/s    in 0.002s  \n",
            "\n",
            "2023-09-16 13:38:52 (149 MB/s) - ‘Wells_Regression_Delta.csv’ saved [253197/253197]\n",
            "\n"
          ]
        }
      ]
    },
    {
      "cell_type": "markdown",
      "source": [
        "# **BDPARKINSON**"
      ],
      "metadata": {
        "id": "Ge9le2n1oXVu"
      }
    },
    {
      "cell_type": "code",
      "source": [
        "%cd /content\n",
        "!mkdir BDParkinson\n",
        "%cd /content/BDParkinson\n",
        "!wget --no-check-certificate 'https://docs.google.com/uc?export=download&id=1aGjLU5ypG7GDefhQCmiSjlseW6Tms4h-' -O BDParkinson_Prediction.csv"
      ],
      "metadata": {
        "id": "AlQdC1HDoaHz"
      },
      "execution_count": null,
      "outputs": []
    },
    {
      "cell_type": "markdown",
      "source": [
        "# **FUNCTION CREATION**"
      ],
      "metadata": {
        "id": "VtEEIoRIogmk"
      }
    },
    {
      "cell_type": "code",
      "source": [
        "from itertools import combinations\n",
        "from sklearn.cluster import KMeans"
      ],
      "metadata": {
        "id": "UEeyjr6Ge2Tv"
      },
      "execution_count": 5,
      "outputs": []
    },
    {
      "cell_type": "code",
      "source": [
        "def general_analysis(df,number_colum_target):\n",
        "\n",
        "  #General analysis of dataset\n",
        "  print('---------------------------------------------------------------------')\n",
        "  print('ANALISIS GENERAL')\n",
        "  print('\\n')\n",
        "\n",
        "  print(f'Número de clases {len(df.iloc[:,number_colum_target].value_counts())}')\n",
        "  print('\\n')\n",
        "\n",
        "  print('Nombre de las caracteristicas, conteo de cantidades, verificación de valores nulos, tipo de dato por cada caracteristica')\n",
        "  print('\\n')\n",
        "  print(df.info())\n",
        "  print('\\n')\n",
        "\n",
        "  print('Cantidad de filas duplicadas')\n",
        "  print(df.duplicated().sum())\n",
        "  print('\\n')\n",
        "\n",
        "  print('Cantidad de valores NAN por caracteristica')\n",
        "  print(df.isna().sum())\n",
        "  print('\\n')\n",
        "\n",
        "  print('Caracteristicas numericas')\n",
        "  print(df.select_dtypes(exclude='object'))\n",
        "  print('\\n')\n",
        "\n",
        "  print('Caracteristicas categoricas')\n",
        "  print(df.select_dtypes(include='object'))\n",
        "  print('\\n')\n"
      ],
      "metadata": {
        "id": "mtauA1ovDyUX"
      },
      "execution_count": 6,
      "outputs": []
    },
    {
      "cell_type": "code",
      "source": [
        "# def is_string_series(s : pd.Series): #https://stackoverflow.com/questions/43049545/python-check-if-dataframe-column-contain-string-type\n",
        "#     if isinstance(s.dtype, pd.StringDtype):\n",
        "#         # The series was explicitly created as a string series (Pandas>=1.0.0)\n",
        "#         return True\n",
        "#     elif s.dtype == 'object':\n",
        "#         # Object series, check each value\n",
        "#         return all((v is None) or isinstance(v, str) for v in s)\n",
        "#     else:\n",
        "#         return False\n",
        "\n",
        "def fill_in_missing_data_cancer(df,number_colum_target):\n",
        "\n",
        "  dff = deepcopy(df)\n",
        "  df_categorical = dff.select_dtypes(include='object')\n",
        "  names_colu_catego = df_categorical.columns\n",
        "\n",
        "\n",
        "  for names in names_colu_catego.tolist():\n",
        "\n",
        "\n",
        "    count_value  = dff[names].value_counts()\n",
        "    val_most_common = count_value.index[0]#calculate value most common\n",
        "    dff[names] = pd.to_numeric(dff[names], errors= 'coerce')#convert atipic to NAN\n",
        "    dff[names] = dff[names].fillna(val_most_common).astype(int)\n",
        "\n",
        "\n",
        "    # try:\n",
        "    #   dff[names] = pd.to_numeric(dff[names], errors= 'coerce',downcast=float)#convert atipic to NAN\n",
        "    #   dff[names] = dff[names].fillna(val_most_common).astype(int)\n",
        "\n",
        "    # except:\n",
        "    #   dff[names] = pd.to_numeric(dff[names], errors= 'coerce')#convert atipic to NAN\n",
        "    #   dff[names] = dff[names].fillna(val_most_common)\n",
        "\n",
        "  print('Nuevo dataset con fill_miss_df')\n",
        "  print('\\n')\n",
        "  print(dff.info())\n",
        "\n",
        "  return dff"
      ],
      "metadata": {
        "id": "BbyQ09EhGncX"
      },
      "execution_count": 7,
      "outputs": []
    },
    {
      "cell_type": "code",
      "source": [
        "def frequentist_analysis(df,number_colum_target):#Si es numerica o no\n",
        "\n",
        "  names_columns = list(df.columns)\n",
        "  target_name = names_columns[number_colum_target]\n",
        "  list_categories_target = df[target_name].astype('category')\n",
        "  list_categories_target =  list_categories_target.cat.categories.tolist()\n",
        "\n",
        "  print('---------------------------------------------------------------------')\n",
        "  print('ANALISIS DE FRECUENCIA')\n",
        "  print('\\n')\n",
        "\n",
        "  print('frecuencia por clase: ')\n",
        "  print('\\n')\n",
        "  print(df[target_name].value_counts())\n",
        "  print('\\n')\n",
        "\n",
        "  print('Medida de tendencia central')\n",
        "  print('\\n')\n",
        "  print(df.describe())\n",
        "  print('\\n')\n",
        "\n",
        "  print('Cantidad de muestras asociadas a  las clases {} presentes la categoria {}:'.format(list_categories_target,target_name))\n",
        "  print('\\n')\n",
        "  print(df.groupby(target_name).count())\n",
        "  print('\\n')\n",
        "\n",
        "\n",
        "  print('Histogramas de caracteristicas')\n",
        "  print('\\n')\n",
        "  df.hist(figsize = (15,20), color='g')\n",
        "  plt.show()\n",
        "  print('\\n')\n",
        "  print('Diagrama de violin')\n",
        "  print('\\n')\n",
        "\n",
        "  num_rows = int((df.shape[1]/3)+1)*2\n",
        "  num_colum = 2\n",
        "\n",
        "  fig = plt.figure(figsize=(20,30))\n",
        "  fig.subplots_adjust(hspace=0.3, wspace=0.3)\n",
        "\n",
        "  for ind,item in enumerate(names_columns):\n",
        "\n",
        "    if ind != (number_colum_target):\n",
        "      ax = fig.add_subplot(num_rows, num_colum, ind + 1)\n",
        "      sns.violinplot(data=df,x=target_name,y=item)\n",
        "      ax.set_xlabel(target_name)\n",
        "      ax.set_ylabel(item)\n",
        "      ax.set_title(str(target_name)+' vs '+item)\n",
        "\n",
        "  plt.show()\n",
        "\n",
        "  print('\\n')\n",
        "  print('\\n')\n",
        "  print('\\n')\n",
        "  print('Diagrama de cajas')\n",
        "  print('\\n')\n",
        "\n",
        "  fig1 = plt.figure(figsize=(20,30))\n",
        "  fig1.subplots_adjust(hspace=0.3, wspace=0.3)\n",
        "\n",
        "  for ind,item in enumerate(names_columns):\n",
        "\n",
        "    if ind != (number_colum_target):\n",
        "      ax1 = fig1.add_subplot(num_rows, num_colum, ind + 1)\n",
        "      sns.boxplot(data=df,x=target_name,y=item)\n",
        "      ax1.set_xlabel(target_name)\n",
        "      ax1.set_ylabel(item)\n",
        "      ax1.set_title(str(target_name)+' vs '+item)\n",
        "\n",
        "  plt.show()"
      ],
      "metadata": {
        "id": "tYBB3gahPjel"
      },
      "execution_count": 8,
      "outputs": []
    },
    {
      "cell_type": "code",
      "source": [
        "def correlation_analysis(df,number_colum_target,drop_correlation,threshold_drop_correlation,drop_vif,threshold_drop_vif):\n",
        "\n",
        "  names_columns = list(df.columns)\n",
        "  target_name = names_columns[number_colum_target]\n",
        "  df_end = deepcopy(df)\n",
        "\n",
        "  print('---------------------------------------------------------------------')\n",
        "  print('ANALISIS DE CORRELACIÓN')\n",
        "  print('\\n')\n",
        "\n",
        "  print('Coeficientes de correlación')\n",
        "  corr = df.corr()\n",
        "  print(corr)\n",
        "  print('\\n')\n",
        "\n",
        "  print('Matriz de correlación')\n",
        "  plt.figure(figsize=(10,10))\n",
        "  sns.heatmap(corr,fmt='.1f',annot=True,cmap='Reds')\n",
        "  plt.show()\n",
        "  print('\\n')\n",
        "\n",
        "  print('Grafico de correlación')\n",
        "  # sns.pairplot(df, hue=target_name)\n",
        "  # plt.show()\n",
        "  print('\\n')\n",
        "\n",
        "\n",
        "  if drop_correlation == 'Si':\n",
        "    corr_abs = corr.abs()\n",
        "    upper = corr_abs.where(np.triu(np.ones(corr_abs.shape), k=1).astype(bool))\n",
        "    to_drop = [column for column in upper.columns if any(upper[column] > threshold_drop_correlation)]\n",
        "\n",
        "    if to_drop:\n",
        "      print('Las caracteriticas a eliminar son {} de acuerdo con el limite de {} para los coeficientes de correlación'.format(to_drop,threshold_drop_correlation))\n",
        "      df = df.drop(list(to_drop),axis=1)\n",
        "\n",
        "\n",
        "    else:\n",
        "      print('No existen caracteriticas con con un coeficiente de correlación que supere el limite de ',threshold_drop_correlation)\n",
        "\n",
        "    print('\\n')\n",
        "    print(df)\n",
        "\n",
        "  if drop_vif == 'Si':\n",
        "\n",
        "    columns_vif = list(df.columns)\n",
        "    columns_vif.remove(target_name)\n",
        "    vif_data = pd.DataFrame()\n",
        "    vif_data[\"feature\"] = columns_vif\n",
        "    vif_data[\"VIF\"] = [variance_inflation_factor(df[columns_vif].values, i) for i in range(len(df[columns_vif].columns))]\n",
        "\n",
        "    print('Coeficiente VIF:')\n",
        "    print('\\n')\n",
        "    print(vif_data)\n",
        "    print('\\n')\n",
        "\n",
        "    list_drop_vif = list((vif_data[ vif_data['VIF'] > threshold_drop_vif][\"feature\"]))\n",
        "    if list_drop_vif:\n",
        "      print('Las caracteriticas a eliminar son {} de acuerdo con el limite de {} para los coeficientes del VIF'.format(list_drop_vif,threshold_drop_vif))\n",
        "      print(type(list_drop_vif))\n",
        "      df = df.drop(list_drop_vif,axis=1)\n",
        "\n",
        "    else:\n",
        "      print('No existen caracteriticas con con un coeficiente de correlación que supere el limite de ',threshold_drop_vif)\n",
        "\n",
        "\n",
        "    df[target_name] = df_end[target_name]\n",
        "\n",
        "    return df"
      ],
      "metadata": {
        "id": "AYS1c3T0BgbY"
      },
      "execution_count": 9,
      "outputs": []
    },
    {
      "cell_type": "code",
      "source": [
        "def split_data(df,number_colum_target,test_size_,problem_ml):\n",
        "\n",
        "  names_columns = list(df.columns)\n",
        "  target_name = names_columns[number_colum_target]\n",
        "\n",
        "\n",
        "  if problem_ml == 'R':\n",
        "    strati = None\n",
        "\n",
        "  if problem_ml == 'C':\n",
        "    strati = df[target_name]\n",
        "\n",
        "\n",
        "  X_train, X_test, y_train, y_test = train_test_split(df.drop(columns=[target_name]), df[target_name],\n",
        "                                                    test_size=test_size_, random_state=1, stratify=strati)\n",
        "  print('----------------------------------------------------------------')\n",
        "  print('PARTICIÒN DE DATASET')\n",
        "  print('\\n')\n",
        "  print('Para X train tenemos {} instancias y {} caracteristicas'.format(np.shape(X_train)[0],np.shape(X_train)[1]))\n",
        "  print('\\n')\n",
        "  print('Para X test tenemos {} instancias y {} caracteristicas'.format(np.shape(X_test)[0],np.shape(X_test)[1]))\n",
        "  print('\\n')\n",
        "  print('Para Y train tenemos {} instancias'.format(np.shape(y_train)[0]))\n",
        "  print('\\n')\n",
        "  print('Para Y test tenemos {} instancias'.format(np.shape(y_test)[0]))\n",
        "  print('\\n')\n",
        "  return  X_train, X_test, y_train, y_test\n",
        "\n",
        "diabetes_X,diabetes_y = datasets.load_diabetes(return_X_y = True)\n",
        "d = pd.DataFrame(diabetes_X,diabetes_y)\n",
        "d.columns =['a', 'b', 'c', 'd','e','f','g','h','i','j']\n",
        "X_train, X_test, y_train, y_test = split_data(d,5,0.2,'R')"
      ],
      "metadata": {
        "id": "PLtPgZAXV3nd",
        "colab": {
          "base_uri": "https://localhost:8080/"
        },
        "outputId": "3a17d853-a2b2-48e5-b74e-7fc4d4ec14c2"
      },
      "execution_count": 94,
      "outputs": [
        {
          "output_type": "stream",
          "name": "stdout",
          "text": [
            "----------------------------------------------------------------\n",
            "PARTICIÒN DE DATASET\n",
            "\n",
            "\n",
            "Para X train tenemos 353 instancias y 9 caracteristicas\n",
            "\n",
            "\n",
            "Para X test tenemos 89 instancias y 9 caracteristicas\n",
            "\n",
            "\n",
            "Para Y train tenemos 353 instancias\n",
            "\n",
            "\n",
            "Para Y test tenemos 89 instancias\n",
            "\n",
            "\n"
          ]
        }
      ]
    },
    {
      "cell_type": "code",
      "source": [
        "def norm_data(X_train, X_test, y_train, y_test,norma_type):\n",
        "\n",
        "  print('----------------------------------------------------------------')\n",
        "  print('NORMALZIACIÒN DE DATASET')\n",
        "  print('\\n')\n",
        "\n",
        "  if norma_type == 'standar':\n",
        "    scaler = StandardScaler()\n",
        "\n",
        "  if norma_type == 'minmax':\n",
        "    scaler = MinMaxScaler()\n",
        "\n",
        "  if norma_type == 'robust':\n",
        "    scaler = RobustScaler()\n",
        "\n",
        "  if norma_type == 'maxabs':\n",
        "    scaler = MaxAbsScaler()\n",
        "\n",
        "  if norma_type == 'normal':\n",
        "    scaler = QuantileTransformer(output_distribution='normal')\n",
        "\n",
        "  X_train = scaler.fit_transform(X_train)\n",
        "  X_test = scaler.transform(X_test)\n",
        "\n",
        "  print('Se utilizo una normalizacion tipo {}'.format(norma_type))\n",
        "\n",
        "  return X_train,X_test\n"
      ],
      "metadata": {
        "id": "HIa6k9AwVW0L"
      },
      "execution_count": 11,
      "outputs": []
    },
    {
      "cell_type": "code",
      "source": [
        "def metrics_to_clasification(model_app_metrics,X_test,y_test,X_train,y_train,labels_y):\n",
        "\n",
        "  y_predic = model_app_metrics.predict(X_test)\n",
        "\n",
        "  print(\"------------------------------------------------------------\")\n",
        "  print('METRICAS DE DESEMPEÑO')\n",
        "  print('\\n')\n",
        "  print('Matriz de confusiòn')\n",
        "  print('\\n')\n",
        "  confusion_matrix(y_test,y_predic)\n",
        "  print('\\n')\n",
        "  cm(model_app_metrics, X_train, y_train, X_test, y_test)\n",
        "  print('\\n')\n",
        "\n",
        "  accuracy_s = accuracy_score(y_test,y_predic)\n",
        "  print('Exactitud global del  modelo: {}'.format(accuracy_s))\n",
        "  print('\\n')\n",
        "\n",
        "  precision_s = precision_score(y_test,y_predic,average='macro')\n",
        "  print('Precisiòn global del modelo: {}'.format(precision_s))\n",
        "  print('\\n')\n",
        "\n",
        "  recall_s = recall_score(y_test,y_predic,average='macro')\n",
        "  print('Ratio global del modelo: {}'.format(recall_s))\n",
        "  print('\\n')\n",
        "\n",
        "  print('Reporte especifico del modelo')\n",
        "  print('\\n')\n",
        "  print(classification_report(y_test, y_predic))\n",
        "  print('\\n')\n",
        "  cr(model_app_metrics, X_train, y_train, X_test, y_test, classes=labels_y, support=True)\n",
        "  print('\\n')\n",
        "\n",
        "  print('Error de predicciòn por clase')\n",
        "  print('\\n')\n",
        "  class_prediction_error(model_app_metrics,X_train, y_train, X_test, y_test)\n"
      ],
      "metadata": {
        "id": "LHSfC9KmurRt"
      },
      "execution_count": 12,
      "outputs": []
    },
    {
      "cell_type": "code",
      "source": [
        "def pca_analysis(df,num_colum_target,X_train,num_components):\n",
        "\n",
        "  names_columns = df.columns.values\n",
        "  Y = df [names_columns[num_colum_target]]\n",
        "  X = df [names_columns[0:num_colum_target]]\n",
        "  print(\"------------------------------------------------------------\")\n",
        "  print('ANALISIS DE COMPONENTES PRINCIPALES')\n",
        "  print('\\n')\n",
        "  print('PCA sin indicar numero de componentes')\n",
        "\n",
        "  pca = PCA()\n",
        "  pca.fit(X)\n",
        "  print(pca.feature_names_in_)\n",
        "  data_pca = pca.transform(X)\n",
        "  data_pca = pd.DataFrame(X)\n",
        "  print(data_pca.head())\n",
        "  print('\\n')\n",
        "\n",
        "  # Plot the cumulative variance explained\n",
        "  plt.figure(figsize = (10, 8))\n",
        "  plt.plot(list(range(X.shape[1])), np.cumsum(pca.explained_variance_ratio_), 'r-') #La varianza explicada es una medida de qué parte de la varianza total en el conjunto de datos original se explica por cada componente principal. La varianza explicada de un componente principal es igual al valor propio asociado con ese componente.\n",
        "  plt.xlabel('Number of PC'); plt.ylabel('Cumulative Variance Explained');\n",
        "  plt.title('Cumulative Variance Explained with PCA');\n",
        "  plt.show()\n",
        "  print('\\n')\n",
        "\n",
        "  print('Impacto de las caracteriticas por PCA')\n",
        "  print('\\n')\n",
        "  loadings = pd.DataFrame(data=pca.components_.T * np.sqrt(pca.explained_variance_),\n",
        "                        columns=[f'PC{i}' for i in range(1, len(X_train.columns) + 1)],\n",
        "                        index=X_train.columns)\n",
        "\n",
        "  print(loadings.head())\n",
        "  print('\\n')\n",
        "  print('\\n')\n",
        "  print('Analisis del impacto de las caracteirticas según la primera componente del PCA')\n",
        "  pc1_loadings = abs(loadings).sort_values(by='PC1', ascending=False)[['PC1']]\n",
        "  pc1_loadings = pc1_loadings.reset_index()\n",
        "  pc1_loadings.columns = ['Feature', 'CorrelationWithPC1']\n",
        "  plt.bar(x=pc1_loadings['Feature'], height=pc1_loadings['CorrelationWithPC1'])\n",
        "  plt.title('Impacto de las features - PCA (componente 1)', size=20)\n",
        "  plt.xticks(rotation='vertical')\n",
        "  plt.show()\n",
        "  print('\\n')\n",
        "  print('\\n')\n",
        "  print('PCA para la cantidad de compontes ({}) de acuerdo a lo ingresado'.format(num_components))\n",
        "\n",
        "  pca = PCA(n_components = num_components)\n",
        "  pca.fit(X)\n",
        "  data_pca = pca.transform(X)\n",
        "  list_com = ['PCA'+str(i) for i in range(1,num_components+1)]\n",
        "  data_pca = pd.DataFrame(data_pca,columns=list_com )\n",
        "  data_pca.head()\n",
        "  print(data_pca.head())\n",
        "  print('\\n')\n",
        "  print('\\n')\n",
        "\n",
        "  print(\"Gráfico de comparación entre las componentes principales\")\n",
        "  data_pca__with_labels = pd.concat([data_pca,Y],axis=1)\n",
        "  pca_names = data_pca.columns.values\n",
        "  mat_combination  = list(combinations(pca_names, 2))\n",
        "  len_combination = len(mat_combination)\n",
        "  # num_rows = int(len_combination/2) +1\n",
        "  # num_colum = 2\n",
        "\n",
        "  #fig = plt.figure(figsize=(30,30))\n",
        "  #fig.subplots_adjust(hspace=0.3, wspace=0.3)\n",
        "\n",
        "  for index,pcas_compa in enumerate(mat_combination):\n",
        "    # ax = fig.add_subplot(num_rows, num_colum, int(index) + 1)\n",
        "    sns.jointplot(data=data_pca__with_labels, x = pcas_compa[0],y = pcas_compa[1], hue = names_columns[num_colum_target])\n",
        "    # ax.set_xlabel(pcas_compa[0])\n",
        "    # ax.set_ylabel(pcas_compa[1])\n",
        "    # ax.set_title(str(pcas_compa[0])+' vs '+pcas_compa[1])\n",
        "\n",
        "  plt.show()\n",
        "  print('\\n')\n",
        "  elbow_method(data_pca,2,3)\n",
        "\n",
        "pca_analysis(df,9,X_train,3)"
      ],
      "metadata": {
        "id": "j2_p3GExBQW3"
      },
      "execution_count": null,
      "outputs": []
    },
    {
      "cell_type": "code",
      "source": [
        "def conver_y(y_train,y_test):\n",
        "\n",
        "  y_train_to_cr = deepcopy(y_train)\n",
        "  for index,data in enumerate(list(np.unique(y_train))):\n",
        "    mask = (y_train == data)\n",
        "    y_train_to_cr[mask] = index\n",
        "\n",
        "  y_test_to_cr = deepcopy(y_test)\n",
        "  for index,data in enumerate(list(np.unique(y_test))):\n",
        "    mask = (y_test == data)\n",
        "    y_test_to_cr[mask] = index\n",
        "\n",
        "  return y_test_to_cr,y_train_to_cr\n"
      ],
      "metadata": {
        "id": "tFl_UJRVDUjK"
      },
      "execution_count": 13,
      "outputs": []
    },
    {
      "cell_type": "code",
      "source": [
        "def balancing_for_class(type_balance,X_train, y_train, X_test, y_test):\n",
        "\n",
        "  if type_balance == 'ROS':\n",
        "    balance = RandomOverSampler(random_state=1)\n",
        "  if type_balance == 'SMOTE':\n",
        "    balance = SMOTE(random_state=1)\n",
        "  if type_balance == 'ADASYN':\n",
        "    balance = ADASYN(random_state=1)\n",
        "  if type_balance == 'RUS':\n",
        "    balance = RandomUnderSampler(random_state=1)\n",
        "\n",
        "  X_train_balanced, y_train_balanced = balance.fit_resample(X_train, y_train)\n",
        "  print(\"y_test  original: \",np.unique(y_test, return_counts=True))\n",
        "  print(\"y_train original: \",np.unique(y_train, return_counts=True))\n",
        "  print(\"y_train balanceado: \",np.unique(y_train_balanced, return_counts=True))\n",
        "\n",
        "  return X_train_balanced, y_train_balanced"
      ],
      "metadata": {
        "id": "hRpkg-V3F1zt"
      },
      "execution_count": 14,
      "outputs": []
    },
    {
      "cell_type": "code",
      "source": [
        "def elbow_method(data_pca,max_cluster,view_bs): #https://www.analyticsvidhya.com/blog/2021/01/in-depth-intuition-of-k-means-clustering-algorithm-in-machine-learning/\n",
        "  max_cluster = 10\n",
        "  print(\"------------------------------------------------------------\")\n",
        "  print('\\n')\n",
        "  print('Metodo del codo') #Futura mejora, calcular la derivada de cada linea hasta que sea casi constante,\n",
        "  #para indicar cual seria el mejor grupo, tambien podria usarse la 3 deirvada\n",
        "  wcss = []\n",
        "  for i in range(1, max_cluster):\n",
        "    kmeans = KMeans(n_clusters = i, random_state=0)\n",
        "    kmeans.fit(data_pca)\n",
        "    wcss.append(kmeans.inertia_)\n",
        "  print(wcss)\n",
        "\n",
        "  with plt.style.context('seaborn-white'):\n",
        "\n",
        "    plt.figure(figsize=(10,6))\n",
        "    plt.plot(range(1, max_cluster), wcss)\n",
        "    plt.title('Método del codo con k-means',fontsize=14)\n",
        "    plt.xlabel('Número de clusters')\n",
        "    plt.ylabel('WCSS (within-cluster sums of squares)')\n",
        "    plt.xticks(fontsize=14)\n",
        "    plt.vlines(x=view_bs,ymin=0,ymax=max(wcss),linestyles='--')\n",
        "    plt.text(x=4.5,y=max(wcss),s='3 clusters')\n",
        "    plt.show()\n",
        "    print('\\n')\n",
        "    print('\\n')\n",
        "\n",
        "  kmeans = KMeans(n_clusters=view_bs, random_state=0).fit(data_pca)\n",
        "\n",
        "  print(\"Gráfico de comparación entre las componentes principales y los grupos generados por KMeans\")\n",
        "  pca_names = data_pca.columns.values\n",
        "  mat_combination  = list(combinations(pca_names, 2))\n",
        "  len_combination = len(mat_combination)\n",
        "\n",
        "\n",
        "  for index,pcas_compa in enumerate(mat_combination):\n",
        "    sns.jointplot(data=data_pca, x = pcas_compa[0],y = pcas_compa[1], hue = kmeans.labels_)\n",
        "\n",
        "  plt.show()\n",
        "  print('\\n')\n",
        "  print('\\n')\n",
        "\n",
        "  # Gráfico de las dos componentes, los clusters, y los centroides\n",
        "  print('Grafico de las dos componentes vs cluester y centroides')\n",
        "  plt.figure(figsize=(6,6))\n",
        "  plt.scatter(np.array(data_pca)[:,0], np.array(data_pca)[:,1], s=10, c=kmeans.labels_, cmap='Set1')\n",
        "  plt.scatter(kmeans.cluster_centers_[:, 0], kmeans.cluster_centers_[:, 1], c=\"b\", s=70)\n",
        "  plt.xlabel(data_pca.columns.values[0])\n",
        "  plt.ylabel(data_pca.columns.values[1])\n",
        "\n",
        "  plt.show()"
      ],
      "metadata": {
        "id": "UgD7X3SMnj8u"
      },
      "execution_count": 41,
      "outputs": []
    },
    {
      "cell_type": "markdown",
      "source": [
        "# **IN PROCESS**"
      ],
      "metadata": {
        "id": "3-4ue13FNjtB"
      }
    },
    {
      "cell_type": "code",
      "source": [
        "X_train, X_test, y_train, y_test = split_data(df,9,0.2,'C')"
      ],
      "metadata": {
        "colab": {
          "base_uri": "https://localhost:8080/"
        },
        "id": "KVGR1BZJP65Q",
        "outputId": "5c0525ae-acdc-4430-ece5-9857f438ccf0"
      },
      "execution_count": 106,
      "outputs": [
        {
          "output_type": "stream",
          "name": "stdout",
          "text": [
            "----------------------------------------------------------------\n",
            "PARTICIÒN DE DATASET\n",
            "\n",
            "\n",
            "Para X train tenemos 559 instancias y 9 caracteristicas\n",
            "\n",
            "\n",
            "Para X test tenemos 140 instancias y 9 caracteristicas\n",
            "\n",
            "\n",
            "Para Y train tenemos 559 instancias\n",
            "\n",
            "\n",
            "Para Y test tenemos 140 instancias\n",
            "\n",
            "\n"
          ]
        }
      ]
    },
    {
      "cell_type": "code",
      "source": [
        "from sklearn.tree import DecisionTreeClassifier"
      ],
      "metadata": {
        "id": "1iTlgfIdsIwP"
      },
      "execution_count": 110,
      "outputs": []
    },
    {
      "cell_type": "code",
      "source": [
        "def supervised_models_classification(X_train, y_train,X_test, y_test):\n",
        "\n",
        "  model_KNN = KNeighborsClassifier()\n",
        "  model_DT  = DecisionTreeClassifier(random_state=0)\n",
        "  model_B   = BaggingClassifier(random_state=0)\n",
        "  model_RF  = RandomForestClassifier(random_state=0)\n",
        "  model_AB  = AdaBoostClassifier(random_state=0)\n",
        "  model_SVM = SVC(random_state=0)\n",
        "  model_ET  = ExtraTreesClassifier(random_state=0)\n",
        "  model_LR  = LogisticRegression(random_state=0, max_iter=200)\n",
        "  model_GB  = GradientBoostingClassifier(random_state=0)\n",
        "  model_QDA = QuadraticDiscriminantAnalysis()\n",
        "  model_LDA = LinearDiscriminantAnalysis()\n",
        "  model_GNB = GaussianNB()\n",
        "  #Train\n",
        "  model_KNN.fit(X_train, y_train)\n",
        "  model_DT.fit(X_train, y_train)\n",
        "  model_B.fit(X_train, y_train)\n",
        "  model_RF.fit(X_train, y_train)\n",
        "  model_AB.fit(X_train, y_train)\n",
        "  model_SVM.fit(X_train, y_train)\n",
        "  model_ET.fit(X_train, y_train)\n",
        "  model_LR.fit(X_train, y_train)\n",
        "  model_GB.fit(X_train, y_train)\n",
        "  model_QDA.fit(X_train, y_train)\n",
        "  model_LDA.fit(X_train, y_train)\n",
        "  model_GNB.fit(X_train, y_train)\n",
        "  #Scores\n",
        "  print(\"KNN, Exactitud: \", model_KNN.score(X_test, y_test))\n",
        "  print(\"DT, Exactitud: \", model_DT.score(X_test, y_test))\n",
        "  print(\"B, Exactitud: \",  model_B.score(X_test, y_test))\n",
        "  print(\"RF, Exactitud: \", model_RF.score(X_test, y_test))\n",
        "  print(\"AB, Exactitud: \", model_AB.score(X_test, y_test))\n",
        "  print(\"SVM, Exactitud: \",model_SVM.score(X_test, y_test))\n",
        "  print(\"ET, Exactitud: \", model_ET.score(X_test, y_test))\n",
        "  print(\"LR, Exactitud: \", model_LR.score(X_test, y_test))\n",
        "  print(\"GB, Exactitud: \", model_GB.score(X_test, y_test))\n",
        "  print(\"QDA, Exactitud: \",model_QDA.score(X_test, y_test))\n",
        "  print(\"LDA, Exactitud: \",model_LDA.score(X_test, y_test))\n",
        "  print(\"GNB, Exactitud: \",model_GNB.score(X_test, y_test))\n",
        "\n",
        "supervised_models_classification(X_train, y_train,X_test, y_test)"
      ],
      "metadata": {
        "colab": {
          "base_uri": "https://localhost:8080/"
        },
        "id": "wBvcw3guMxjf",
        "outputId": "e444238d-29d5-4047-8a8c-81b844d16dfe"
      },
      "execution_count": 113,
      "outputs": [
        {
          "output_type": "stream",
          "name": "stdout",
          "text": [
            "KNN, Exactitud:  0.9571428571428572\n",
            "DT, Exactitud:  0.9428571428571428\n",
            "B, Exactitud:  0.95\n",
            "RF, Exactitud:  0.9571428571428572\n",
            "AB, Exactitud:  0.9214285714285714\n",
            "SVM, Exactitud:  0.9571428571428572\n",
            "ET, Exactitud:  0.95\n",
            "LR, Exactitud:  0.9428571428571428\n",
            "GB, Exactitud:  0.95\n",
            "QDA, Exactitud:  0.9142857142857143\n",
            "LDA, Exactitud:  0.95\n",
            "GNB, Exactitud:  0.9214285714285714\n"
          ]
        }
      ]
    },
    {
      "cell_type": "code",
      "source": [
        "def supervised_models_regression(X_train, y_train,X_test, y_test):\n",
        "  model_L = LinearRegression()\n",
        "  model_R = Ridge(alpha=1.0)\n",
        "  model_LS = Lasso(alpha=1.0)\n",
        "  model_ET = ElasticNet(alpha=1.0, l1_ratio=0.5)\n",
        "  model_SVR = SVR(kernel='linear', C=1.0)\n",
        "  model_KNN = KNeighborsRegressor(n_neighbors=5)\n",
        "  model_DT = DecisionTreeRegressor()\n",
        "  model_RF = RandomForestRegressor(n_estimators=100)\n",
        "  model_MLP = MLPRegressor(hidden_layer_sizes=(40, 25), max_iter=1000)\n",
        "  model_KR = KernelRidge(alpha=1.0, kernel='linear')\n",
        "  model_HB = HuberRegressor(epsilon=1.35)\n",
        "  model_RC = RANSACRegressor()\n",
        "  model_SGD = SGDRegressor()\n",
        "  model_GB = GradientBoostingRegressor(n_estimators=100, learning_rate=0.1)\n",
        "  model_LSVR = LinearSVR(epsilon=0.0, C=1.0)\n",
        "  model_BR = BayesianRidge()\n",
        "\n",
        "  model_L.fit(X_train, y_train)\n",
        "  model_R.fit(X_train, y_train)\n",
        "  model_LS.fit(X_train, y_train)\n",
        "  model_ET.fit(X_train, y_train)\n",
        "  model_SVR.fit(X_train, y_train)\n",
        "  model_KNN.fit(X_train, y_train)\n",
        "  model_DT.fit(X_train, y_train)\n",
        "  model_RF.fit(X_train, y_train)\n",
        "  model_MLP.fit(X_train, y_train)\n",
        "  model_KR.fit(X_train, y_train)\n",
        "  model_HB.fit(X_train, y_train)\n",
        "  model_RC.fit(X_train, y_train)\n",
        "  model_SGD.fit(X_train, y_train)\n",
        "  model_GB.fit(X_train, y_train)\n",
        "  model_LSVR.fit(X_train, y_train)\n",
        "  model_BR.fit(X_train, y_train)\n",
        "\n",
        "\n",
        "  print(\"lineal, Exactitud: \", model_L.score(X_test, y_test))\n",
        "  print(\"R, Exactitud: \", model_R.score(X_test, y_test))\n",
        "  print(\"LS, Exactitud: \", model_LS.score(X_test, y_test))\n",
        "  print(\"ET, Exactitud: \", model_ET.score(X_test, y_test))\n",
        "  print(\"SVR, Exactitud: \", model_SVR.score(X_test, y_test))\n",
        "  print(\"KNN, Exactitud: \", model_KNN.score(X_test, y_test))\n",
        "  print(\"DT, Exactitud: \", model_DT.score(X_test, y_test))\n",
        "  print(\"RF, Exactitud: \", model_RF.score(X_test, y_test))\n",
        "  print(\"MLP, Exactitud: \", model_MLP.score(X_test, y_test))\n",
        "  print(\"KR, Exactitud: \", model_KR.score(X_test, y_test))\n",
        "  print(\"HB, Exactitud: \", model_HB.score(X_test, y_test))\n",
        "  print(\"RC, Exactitud: \", model_RC.score(X_test, y_test))\n",
        "  print(\"SGD, Exactitud: \", model_SGD.score(X_test, y_test))\n",
        "  print(\"GB, Exactitud: \", model_GB.score(X_test, y_test))\n",
        "  print(\"LSVR, Exactitud: \", model_LSVR.score(X_test, y_test))\n",
        "  print(\"BR, Exactitud: \", model_BR.score(X_test, y_test))\n",
        "  return model_GB\n",
        "\n",
        "mm = supervised_models_regression(X_train, y_train,X_test, y_test)"
      ],
      "metadata": {
        "colab": {
          "base_uri": "https://localhost:8080/"
        },
        "id": "w2e3g4LQXqnL",
        "outputId": "00afdd1e-f161-4565-ba4f-9b6c94095424"
      },
      "execution_count": 115,
      "outputs": [
        {
          "output_type": "stream",
          "name": "stdout",
          "text": [
            "lineal, Exactitud:  0.804937379751028\n",
            "R, Exactitud:  0.8049332216632231\n",
            "LS, Exactitud:  0.6386251104223829\n",
            "ET, Exactitud:  0.754386240855812\n",
            "SVR, Exactitud:  0.7991069281059173\n",
            "KNN, Exactitud:  0.827536231884058\n",
            "DT, Exactitud:  0.7463768115942029\n",
            "RF, Exactitud:  0.8173469202898551\n",
            "MLP, Exactitud:  0.7560736164087332\n",
            "KR, Exactitud:  0.32809804461570136\n",
            "HB, Exactitud:  0.7921651582823639\n",
            "RC, Exactitud:  -0.5217391304347825\n",
            "SGD, Exactitud:  0.807885381412384\n",
            "GB, Exactitud:  0.7686395890778492\n",
            "LSVR, Exactitud:  0.7741827203004071\n",
            "BR, Exactitud:  0.804631470116479\n"
          ]
        },
        {
          "output_type": "stream",
          "name": "stderr",
          "text": [
            "/usr/local/lib/python3.10/dist-packages/sklearn/svm/_base.py:1244: ConvergenceWarning: Liblinear failed to converge, increase the number of iterations.\n",
            "  warnings.warn(\n"
          ]
        }
      ]
    },
    {
      "cell_type": "code",
      "source": [
        "y_test"
      ],
      "metadata": {
        "colab": {
          "base_uri": "https://localhost:8080/"
        },
        "id": "OiPE5ugWzg3q",
        "outputId": "ff102f56-6b5f-4e3f-d358-8b5dffaa85dc"
      },
      "execution_count": 119,
      "outputs": [
        {
          "output_type": "execute_result",
          "data": {
            "text/plain": [
              "326    4\n",
              "558    2\n",
              "316    4\n",
              "632    2\n",
              "223    4\n",
              "      ..\n",
              "18     4\n",
              "517    2\n",
              "52     4\n",
              "539    2\n",
              "384    2\n",
              "Name: Class, Length: 140, dtype: int64"
            ]
          },
          "metadata": {},
          "execution_count": 119
        }
      ]
    },
    {
      "cell_type": "code",
      "source": [
        "def plot_model_regres(model,X_test,y_test):\n",
        "  sns.lineplot(data=y_test,c='r')\n",
        "  # Gráfica de la variable objetivo predicción\n",
        "  y_pred_reg = model.predict(X_test)\n",
        "  y_pred_reg = pd.DataFrame(y_pred_reg).set_index(y_test.index)\n",
        "  # Creando un dataframe 2 columnas con variable real y la predicción\n",
        "  df_test_real_pred = pd.concat([y_test,y_pred_reg],axis=1)\n",
        "  df_test_real_pred.rename(columns={'VS':'VS REAL',\n",
        "                        0:'VS PREDICCIÓN'},inplace=True)\n",
        "  sns.lineplot(data=df_test_real_pred)\n",
        "\n",
        "plot_model_regres(mm,X_test,y_test)\n",
        "\n"
      ],
      "metadata": {
        "colab": {
          "base_uri": "https://localhost:8080/",
          "height": 484
        },
        "id": "XHkzM7qQyeR9",
        "outputId": "30ec6cc1-8de1-4b67-b876-137abdd1f34e"
      },
      "execution_count": 118,
      "outputs": [
        {
          "output_type": "display_data",
          "data": {
            "text/plain": [
              "<Figure size 800x550 with 1 Axes>"
            ],
            "image/png": "[encoded data removed]"
          },
          "metadata": {}
        }
      ]
    },
    {
      "cell_type": "code",
      "source": [
        "def optimization_models(model,param_grid,X_train, y_train):\n",
        "  print('-----------------------------------------------------------')\n",
        "  print('Optimización de modelos')\n",
        "  grid = GridSearchCV(model, param_grid, cv=3, verbose=3)\n",
        "  grid.fit(X_train, y_train)\n",
        "  print('\\n')\n",
        "  print('El modelo optimizado es: {}'.format(grid.best_estimator_))\n",
        "  return grid\n",
        "\n",
        "\n",
        "model_LR = LogisticRegression(random_state=0, max_iter=200)\n",
        "\n",
        "# Se definen los hiperparámetros\n",
        "param_grid = {'C': [0.001, 0.01, 0.1, 1, 10, 100, 1000],\n",
        "              'penalty': ['l1', 'l2', 'elasticnet', 'none'],\n",
        "              'solver': ['newton-cg', 'lbfgs', 'liblinear', 'sag', 'saga']}\n",
        "\n"
      ],
      "metadata": {
        "id": "u9HWURRQsuOr"
      },
      "execution_count": 124,
      "outputs": []
    },
    {
      "cell_type": "code",
      "source": [
        "def feature_aport_extree(X,X_train, y_train):\n",
        "  print('-----------------------------------------------------------')\n",
        "  print('Importancia de caracteristicas por Clasificador extra de arboles')\n",
        "  print('\\n')\n",
        "  model = ExtraTreesClassifier(random_state=0)\n",
        "  model.fit(X_train, y_train)\n",
        "\n",
        "  # Mostrar la importancia de características\n",
        "  viz = FeatureImportances(model, topn=6)\n",
        "  viz.fit(X_train, y_train)\n",
        "  viz.show()\n",
        "  print('\\n')\n",
        "  feature_importances=pd.DataFrame({'features':X.columns,'feature_importance':model.feature_importances_})\n",
        "  feature_importances.sort_values('feature_importance',ascending=False)[:6]"
      ],
      "metadata": {
        "id": "rv81xXd6P9bX"
      },
      "execution_count": 122,
      "outputs": []
    },
    {
      "cell_type": "code",
      "source": [
        "predictor = TabularPredictor(label='LFC').fit(train_data, time_limit=120)  # Fit models for 120s"
      ],
      "metadata": {
        "id": "POE7R8mdSKbi"
      },
      "execution_count": null,
      "outputs": []
    },
    {
      "cell_type": "code",
      "source": [
        "leaderboard = predictor.leaderboard(test_data)"
      ],
      "metadata": {
        "id": "aTeHSlJ-SNjQ"
      },
      "execution_count": null,
      "outputs": []
    },
    {
      "cell_type": "code",
      "source": [
        "predictor.fit_summary()"
      ],
      "metadata": {
        "id": "-o4Oj80JSPqG"
      },
      "execution_count": null,
      "outputs": []
    },
    {
      "cell_type": "code",
      "source": [
        "mejorModelo=predictor.get_model_best()"
      ],
      "metadata": {
        "id": "8-nZcaNESTZ8"
      },
      "execution_count": null,
      "outputs": []
    },
    {
      "cell_type": "code",
      "source": [
        "predictor.evaluate(test_data, model=mejorModelo)"
      ],
      "metadata": {
        "id": "ZKtd7qMySVAV"
      },
      "execution_count": null,
      "outputs": []
    },
    {
      "cell_type": "code",
      "source": [
        "prediccion=predictor.predict(test_data, model=mejorModelo)"
      ],
      "metadata": {
        "id": "6aVN0Zm6SXPQ"
      },
      "execution_count": null,
      "outputs": []
    },
    {
      "cell_type": "code",
      "source": [
        "prediccion.to_numpy(),test_data['LFC'].to_numpy()"
      ],
      "metadata": {
        "id": "BGL60TZWSYeJ"
      },
      "execution_count": null,
      "outputs": []
    },
    {
      "cell_type": "code",
      "source": [
        "#Evaluar predicciones\n",
        "predictor.evaluate_predictions(prediccion,test_data['LFC'])"
      ],
      "metadata": {
        "id": "sxANANAbSaCl"
      },
      "execution_count": null,
      "outputs": []
    },
    {
      "cell_type": "code",
      "source": [
        "prediccionUnRegistro=predictor.predict(test_data[1:2], model=mejorModelo)"
      ],
      "metadata": {
        "id": "fq2S3nXOSc-w"
      },
      "execution_count": null,
      "outputs": []
    },
    {
      "cell_type": "code",
      "source": [
        "prediccionUnRegistro.to_numpy(),test_data[1:2]['LFC'].to_numpy()"
      ],
      "metadata": {
        "id": "6lcD5gBiSePY"
      },
      "execution_count": null,
      "outputs": []
    },
    {
      "cell_type": "code",
      "source": [
        "importancia=predictor.feature_importance(test_data,model=mejorModelo)"
      ],
      "metadata": {
        "id": "txDd3VI7Shlu"
      },
      "execution_count": null,
      "outputs": []
    },
    {
      "cell_type": "code",
      "source": [
        "importancia"
      ],
      "metadata": {
        "id": "7HWW6EYKSjQx"
      },
      "execution_count": null,
      "outputs": []
    }
  ]
}